{
 "cells": [
  {
   "cell_type": "markdown",
   "metadata": {},
   "source": [
    "# Otoczka wypukła"
   ]
  },
  {
   "cell_type": "code",
   "execution_count": 1,
   "metadata": {},
   "outputs": [],
   "source": [
    "import numpy\n",
    "from bitalg.tests.test2 import Test\n",
    "from bitalg.visualizer.main import Visualizer"
   ]
  },
  {
   "cell_type": "markdown",
   "metadata": {},
   "source": [
    "### Wprowadzenie"
   ]
  },
  {
   "cell_type": "markdown",
   "metadata": {},
   "source": [
    "Czym jest otoczka wypukła?  \n",
    "Podzbiór płaszczyzny $Q$ nazywamy wypukłym , gdy dla dowolnej pary punktów $p, q \\in Q$ odcinek $\\overline{pq}$ jest całkowicie zawarty w $Q$.  \n",
    "Otoczka wypukła $\\mathcal{CH}(Q)$ zbioru $Q$ jest najmniejszym wypukłym zbiorem zawierającym $Q$."
   ]
  },
  {
   "cell_type": "markdown",
   "metadata": {},
   "source": [
    "### Zastosowania otoczku wypukłej"
   ]
  },
  {
   "cell_type": "markdown",
   "metadata": {},
   "source": [
    "Otoczki wypukłe - w szczególności otoczki wypukłe w przestrzeni trójwymiarowej - są spotykane w różnych zastosowaniach. Na przykład używa się ich do przyspieszania wykrywania kolizji w animacji komputerowej. Przepuśćmy, że chcemy sprawdzić, czy dwa obiekty $\\mathcal{P_1}$ i $\\mathcal{P_2}$ przecinają się. Jeśli przez większość czasu odpowiedź na to pytanie jest negatywna, to opłaca się następująca strategia. Przybliżamy obiekty przez prostrze obiekty $\\widehat{\\mathcal{P_1}}$ i $\\widehat{\\mathcal{P_2}}$, które zawierały orginały. Jeśli chcemy sprwadzić, czy $\\mathcal{P_1}$ i $\\mathcal{P_2}$ przecinają się, najpierw sprawdzamy, czy przecinają się $\\widehat{\\mathcal{P_1}}$ i $\\widehat{\\mathcal{P_2}}$. Jeśli występuje ten przypadek, to powinniśmy wykonać test na orginalnych obiektach, który jest przepuszczalnie znacznie kosztowniejszy.  \n",
    "Sprawdzanie przecięcia otoczek wypukłych jest bardziej skomplikowane niż dla sfer - choć mimo to łatwiejsze niż dla obiektów niewypukłych - ale otoczki wypukłe mogą dużo lepiej przybliżać większość obiektów."
   ]
  },
  {
   "cell_type": "markdown",
   "metadata": {},
   "source": [
    "## Generowanie losowych punktów na płaszczyźnie "
   ]
  },
  {
   "cell_type": "markdown",
   "metadata": {},
   "source": [
    "Generowanie n punktów z zakresu (left,right)"
   ]
  },
  {
   "cell_type": "code",
   "execution_count": 2,
   "metadata": {},
   "outputs": [],
   "source": [
    "def generate_uniform_points(left=-100, right=100, n=100):\n",
    "    \"\"\"\n",
    "    Funkcja generuje równomiernie n punktów na kwadwratowym\n",
    "    obszarze od left do right (jednakowo na osi y)\n",
    "    o współrzędnych rzeczywistych\n",
    "    :param left: lewy kraniec przedziału\n",
    "    :param right: prawy kraniec przedziału\n",
    "    :param n: ilość generowanych punktów\n",
    "    :return: tablica punktów w postaci krotek współrzędnych\n",
    "             np. [(x1, y1), (x2, y2), ... (xn, yn)]\n",
    "    \"\"\"\n",
    "    punkty = []\n",
    "    for _ in range(n):\n",
    "        punkty.append([numpy.random.uniform(left,right), numpy.random.uniform(left,right)])\n",
    "    return punkty"
   ]
  },
  {
   "cell_type": "code",
   "execution_count": 3,
   "metadata": {},
   "outputs": [],
   "source": [
    "points_a = generate_uniform_points(-100, 100, 100)"
   ]
  },
  {
   "cell_type": "markdown",
   "metadata": {},
   "source": [
    "Wizualizacja Zbioru A"
   ]
  },
  {
   "cell_type": "code",
   "execution_count": null,
   "metadata": {},
   "outputs": [],
   "source": [
    "# visualize(points_a)\n",
    "vis = Visualizer()\n",
    "vis.add_point(points_a)\n",
    "vis.show()"
   ]
  },
  {
   "cell_type": "markdown",
   "metadata": {},
   "source": [
    "Generowanie n punktów na okręgu o środku w O i promieniu R"
   ]
  },
  {
   "cell_type": "code",
   "execution_count": 7,
   "metadata": {},
   "outputs": [],
   "source": [
    "def generate_circle_points(O=(0,0), R=10, n=100):\n",
    "    \"\"\"\n",
    "    Funkcja generuje jednostajnie n punktów na okręgu o środku O i promieniu R\n",
    "    :param O: krotka współrzędnych x, y określająca środek okręgu\n",
    "    :param R: promień okręgu\n",
    "    :param n: ilość generowanych punktów\n",
    "    :return: tablica punktów w postaci krotek współrzędnych\n",
    "    \"\"\"\n",
    "    punkty = []\n",
    "    for _ in range(n):\n",
    "        kąt = numpy.random.uniform(0,2*numpy.pi) # generowanie kąta\n",
    "        punkty.append((R * numpy.cos(kąt) + O[0],\n",
    "                 R * numpy.sin(kąt) + O[1]))\n",
    "    return punkty"
   ]
  },
  {
   "cell_type": "code",
   "execution_count": 8,
   "metadata": {},
   "outputs": [],
   "source": [
    "points_b = generate_circle_points((0, 0), 10, 100)"
   ]
  },
  {
   "cell_type": "markdown",
   "metadata": {},
   "source": [
    "Wizualizacja Zbioru B"
   ]
  },
  {
   "cell_type": "code",
   "execution_count": null,
   "metadata": {},
   "outputs": [],
   "source": [
    "# visualize(points_b)\n",
    "vis.clear()\n",
    "vis.add_point(points_b)\n",
    "vis.show()"
   ]
  },
  {
   "cell_type": "markdown",
   "metadata": {},
   "source": [
    "Generowanie n punktów na bokach prostokąta o wierzchołkach: a, b, c i d."
   ]
  },
  {
   "cell_type": "code",
   "execution_count": 9,
   "metadata": {},
   "outputs": [],
   "source": [
    "def generate_rectangle_points(a=(-10, -10), b=(10, -10), c=(10, 10), d=(-10, 10), n=100):\n",
    "    '''\n",
    "    Funkcja generuje n punktów na obwodzie prostokąta\n",
    "    o wierzchołkach w punktach a, b, c i d.\n",
    "    \n",
    "    :param a: lewy-dolny wierzchołek prostokąta\n",
    "    :param b: prawy-dolny wierzchołek prostokąta\n",
    "    :param c: prawy-górny wierzchołek prostokąta\n",
    "    :param d: lewy-górny wierzchołek prostokąta\n",
    "    :param n: ilość generowanych punktów\n",
    "    :return: tablica punktów w postaci krotek współrzędnych\n",
    "    '''\n",
    "    punkty = []\n",
    "    \n",
    "    #  długosc boków prostokąta\n",
    "    dlugosc_ab = numpy.linalg.norm(numpy.array(b) - numpy.array(a))\n",
    "    dlugosc_bc = numpy.linalg.norm(numpy.array(c) - numpy.array(b))\n",
    "    dlugosc_cd = numpy.linalg.norm(numpy.array(d) - numpy.array(c))\n",
    "    dlugosc_da = numpy.linalg.norm(numpy.array(a) - numpy.array(d))\n",
    "    \n",
    "    #obwód\n",
    "    obwod = dlugosc_ab + dlugosc_bc + dlugosc_cd + dlugosc_da\n",
    "\n",
    "    for _ in range(n):\n",
    "        # pozycja na prostokącie\n",
    "        pozycja = numpy.random.uniform(0, obwod)\n",
    "        \n",
    "        if pozycja <= dlugosc_ab:\n",
    "            # Punkt na boku AB\n",
    "            proporcja = pozycja / dlugosc_ab\n",
    "            x = a[0] + proporcja * (b[0] - a[0])\n",
    "            y = a[1] + proporcja * (b[1] - a[1])\n",
    "            punkty.append((x, y))\n",
    "        elif pozycja <= dlugosc_ab + dlugosc_bc:\n",
    "            # Punkt na boku BC\n",
    "            proporcja = (pozycja - dlugosc_ab) / dlugosc_bc\n",
    "            x = b[0] + proporcja * (c[0] - b[0])\n",
    "            y = b[1] + proporcja * (c[1] - b[1])\n",
    "            punkty.append((x, y))\n",
    "        elif pozycja <= dlugosc_ab + dlugosc_bc + dlugosc_cd:\n",
    "            # Punkt na boku CD\n",
    "            proporcja = (pozycja - dlugosc_ab - dlugosc_bc) / dlugosc_cd\n",
    "            x = c[0] + proporcja * (d[0] - c[0])\n",
    "            y = c[1] + proporcja * (d[1] - c[1])\n",
    "            punkty.append((x, y))\n",
    "        else:\n",
    "            # Punkt na boku DA\n",
    "            proporcja = (pozycja - dlugosc_ab - dlugosc_bc - dlugosc_cd) / dlugosc_da\n",
    "            x = d[0] + proporcja * (a[0] - d[0])\n",
    "            y = d[1] + proporcja * (a[1] - d[1])\n",
    "            punkty.append((x, y))\n",
    "    \n",
    "    return punkty"
   ]
  },
  {
   "cell_type": "code",
   "execution_count": 10,
   "metadata": {},
   "outputs": [],
   "source": [
    "points_c = generate_rectangle_points(\n",
    "    (-10, -10), (10, -10), (10, 10), (-10, 10), 100)"
   ]
  },
  {
   "cell_type": "markdown",
   "metadata": {},
   "source": [
    "Wizualizacja Zbioru C"
   ]
  },
  {
   "cell_type": "code",
   "execution_count": null,
   "metadata": {},
   "outputs": [],
   "source": [
    "# visualize(points_c)\n",
    "vis.clear()\n",
    "vis.add_point(points_c)\n",
    "vis.show()"
   ]
  },
  {
   "cell_type": "markdown",
   "metadata": {},
   "source": [
    "Generowanie n1 punktów na dwóch bokach kwadratu i n2 punktów na przekątnych. Kwadrat został określony poprzez podanie wierzchołków a, b, c i d."
   ]
  },
  {
   "cell_type": "code",
   "execution_count": 11,
   "metadata": {},
   "outputs": [],
   "source": [
    "def generate_square_points(a=(0, 0), b=(10, 0), c=(10, 10), d=(0, 10),\n",
    "                            n1=25, n2=20):\n",
    "    '''\n",
    "    Funkcja generuje n1 punktów na dwóch bokach kwadratu\n",
    "    leżących na osiach x i y oraz n2 punktów na przekątnych\n",
    "    kwadratu, którego wyznaczają punkty a, b, c i d.\n",
    "    \n",
    "    :param a: lewy-dolny wierzchołek kwadratu\n",
    "    :param b: prawy-dolny wierzchołek kwadratu\n",
    "    :param c: prawy-górny wierzchołek kwadratu\n",
    "    :param d: lewy-górny wierzchołek kwadratu\n",
    "    :param n1: ilość generowanych punktów na każdym\n",
    "                   z dwóch boków kwadratu równoległych do osi x i y\n",
    "    :param n2: ilość generowanych punktów na każdej\n",
    "                   przekątnej kwadratu\n",
    "    :return: tablica punktów w postaci krotek współrzędnych\n",
    "    '''\n",
    "    punkty = [a,b,c,d]\n",
    "    \n",
    "    # Punkt na boku AB (równoległym do osi X)\n",
    "    for _ in range(n1):\n",
    "        x = numpy.random.uniform(a[0], b[0])  # Współrzędna X na boku AB\n",
    "        punkty.append((x, a[1]))  # Punkt na boku AB\n",
    "\n",
    "    # Punkt na boku DA (równoległym do osi Y)\n",
    "    for _ in range(n1):\n",
    "        y = numpy.random.uniform(a[1], d[1])  # Współrzędna Y na boku DA\n",
    "        punkty.append((a[0], y))  # Punkt na boku DA\n",
    "\n",
    "    # Punkty na przekątnej AC (y = x, czyli y = m * x + b dla m = 1, b = 0)\n",
    "    for _ in range(n2):\n",
    "        a_diag = numpy.random.uniform(a[0], c[0])  # Losowanie wartości na przekątnej\n",
    "        punkty.append((a_diag, a_diag))  # Punkt na przekątnej AC\n",
    "\n",
    "    # Punkty na przekątnej BD (y = 10 - x, czyli y = -m * x + b dla m = 1, b = 10)\n",
    "    for _ in range(n2):\n",
    "        b_diag = numpy.random.uniform(b[0], d[0])  # Losowanie wartości na przekątnej\n",
    "        punkty.append((b_diag, (b[0] - b_diag) + b[1]))  # Punkt na przekątnej BD\n",
    "\n",
    "    return punkty\n"
   ]
  },
  {
   "cell_type": "code",
   "execution_count": 12,
   "metadata": {},
   "outputs": [],
   "source": [
    "points_d = generate_square_points(\n",
    "    (0, 0), (10, 0), (10, 10), (0, 10), 25, 20)"
   ]
  },
  {
   "cell_type": "markdown",
   "metadata": {},
   "source": [
    "Wizualizacja Zbioru D"
   ]
  },
  {
   "cell_type": "code",
   "execution_count": 131,
   "metadata": {},
   "outputs": [
    {
     "data": {
      "image/png": "[encoded data removed]",
      "text/plain": [
       "<Figure size 640x480 with 1 Axes>"
      ]
     },
     "metadata": {},
     "output_type": "display_data"
    }
   ],
   "source": [
    "# visualize(points_d)\n",
    "vis.clear()\n",
    "vis.add_point(points_d)\n",
    "vis.show()"
   ]
  },
  {
   "cell_type": "markdown",
   "metadata": {},
   "source": [
    "## Algorytm Grahama oraz algorytm Jarvisa"
   ]
  },
  {
   "cell_type": "markdown",
   "metadata": {},
   "source": [
    "Po przygotowaniu przykładowych zbiorów danych i ich zwizualizowaniu, chcemy zobaczyć jak buduje się dla nich otoczka wypukła z wykorzystaniem różnych algortymów.  \n",
    "W tych dwóch algorytmach potrzebna będzie funkcja którą już dobrze znamy, czyli funkcja, która sprawdza po której stornie prostej znajduje się punkt.  \n",
    "Dla każdego algorytmu trzeba będzie zaimplementować dwie funkcje obliczające otoczkę wypukłę, ze względu, że jedna z nich będzie miała możliwość wyświetlania kroków postępowania w algorytmie. Druga funkcja będzie uzyteczna do porównywania czasów dla różnych zbiorów danych i względęm algorytmów.  \n",
    "W graficznej funkcji danego algorytmu, jednym kolorem powinny być zaznaczone wszystkie punkty zbioru wyjściowego, drugim kolorem boki aktualne rozpatrywane, a trzecim boki wielokąta otoczki. Po zakończeniu wyznaczania otoczki, wierzchołki otoczki powinny być wyróżnione (osobnym kolorem bądź kształtem).  "
   ]
  },
  {
   "cell_type": "markdown",
   "metadata": {},
   "source": [
    "### Algorytm Grahama"
   ]
  },
  {
   "cell_type": "markdown",
   "metadata": {},
   "source": [
    "Algorytm Grahama tworzy otoczkę wypukłą poprzez utrzymywanie stosu $S$, w którym znajdują się punkty, które mogą, ale nie muszą tworzyć otoczki wypukłej. Za każdym razem jest wstawiany na stos (push) jeden punkt z zbioru punktów $Q$ i jest on usuwany ze stosu (pop), jeżeli nie jest punktem $\\mathcal{CH}(Q)$. Kiedy algorytm kończy się, stos $S$ zawiera tylko punkty otoczki wypukłej $\\mathcal{CH}(Q)$ w kierunku przeciwnym do ruchu wskazówek zegera.\n",
    "\n",
    "---\n",
    "\n",
    "Procedura $\\mathtt{Graham-Build(Q)}$ przyjmuje zbiór punktów $Q$, gdzie $|Q| \\geq 3$. Wywołuje ona funkcję $\\mathtt{TOP(S)}$, która zwraca punkt z góry stosu bez zmieniania $S$ oraz\n",
    "$\\mathtt{NEXT-TO-TOP(S)}$, która zwraca punkt ponieżej góry stosu $S$, bez zmieniania stosu. Funkcja $\\mathtt{PUSH(p, S)}$ wstawia punkt $p$ na stos $S$. Funkcja $\\mathtt{POP(p, S)}$ usuwa punkt $p$ ze stosu $S$."
   ]
  },
  {
   "cell_type": "markdown",
   "metadata": {},
   "source": [
    "$\\mathtt{Graham-Build(Q)}$  \n",
    "1)  niech $p_0$ będzie punktem w zbiorze Q z najmniejszą współrzędną $y$,  \n",
    "    oraz najmniejszą współrzędną $x$ w przypadku, gdy wiele punktów ma tą samą współrzędną $x$  \n",
    "    \n",
    "2)  nich $\\mathtt{\\langle p_1, p_2, \\dots, p_m \\rangle}$ będzie pozostałym zbiorem punktów w $Q$ posortowanym  \n",
    "    zgodnie z przeciwnym ruchem wskazówek zegara wokół punktu $p_0$  \n",
    "    (jeżeli więcej niż jeden punkt ma ten sam kąt to usuwamy wszystkie punkty  \n",
    "     z wyjątkiem tego najbardziej oddalonego od $p_0$)  \n",
    "3) stwórz pusty stos $S$  \n",
    "4) $\\mathtt{PUSH(p_0, S)}$\n",
    "5) $\\mathtt{PUSH(p_1, S)}$\n",
    "6) $\\mathtt{PUSH(p_2, S)}$\n",
    "7) **for** $i = 3$ **to** m  \n",
    "8) &emsp;**while** kąt utworzony przez $\\mathtt{NEXT-TO-TOP(S)}$, $\\mathtt{TOP(S)}$ oraz $p_i$ tworzy lewostronny skręt\n",
    "9) &emsp;&emsp;$\\mathtt{POP(S)}$\n",
    "10) &emsp;$\\mathtt{PUSH(p_i, S)}$\n",
    "11) **return** $S$"
   ]
  },
  {
   "cell_type": "markdown",
   "metadata": {},
   "source": [
    "\n",
    "---\n",
    "\n",
    "Lewostronny skręt oznacza, że dla trzech kolejnych punktów $a, b, c$, punkt $b$ leży po lewej stronie prostej $ac$.  \n",
    "  \n",
    "\n",
    "\n",
    "\n",
    "Implementacja algorytmu Grahama  "
   ]
  },
  {
   "cell_type": "code",
   "execution_count": 110,
   "metadata": {},
   "outputs": [],
   "source": [
    "def graham_algorithm(Q):\n",
    "    '''\n",
    "    Funkcja buduje otoczkę wypukłą dla podanego zbioru punktów Q algorytmem Grahama\n",
    "    :param Q: zbiór punktów\n",
    "    :return: tablica punktów tworzących otoczkę wypukłą w postaci krotek współrzędnych\n",
    "    '''\n",
    "    n=len(Q)\n",
    "    # wyznacznik macierzy \n",
    "    def mat_det_3x3(a, b, c): return a[0]*c[1]+a[1]*b[0]+c[0]*b[1]-c[1]*b[0]-a[0]*b[1]-a[1]*c[0]\n",
    "    \n",
    "    # punkty referencyjny, o min y, (x)\n",
    "    min_point = Q[0]\n",
    "    min_point = min(Q, key=lambda p: (p[1], p[0])) \n",
    "    \n",
    "    #Obliczanie kątów i odległości od punktów\n",
    "    A=[(0,0,min_point[0],min_point[1])]\n",
    "    for i in range(n):\n",
    "        if Q[i]==min_point: continue\n",
    "        dx = Q[i][0] - min_point[0]\n",
    "        dy = Q[i][1] - min_point[1]\n",
    "        kąt = numpy.arctan2(dy,dx) # liczymy kąt  \n",
    "        A.append((kąt,(dx**2 + dy**2)**0.5,Q[i][0],Q[i][1]))\n",
    "    A = sorted(A, key = lambda x:(x[0],x[1])) # sortujemy po kącie\n",
    "    \n",
    "    #Usuwamy punkty o tym samym kącie (wspóliniowe)\n",
    "    B=[(A[0][2],A[0][3])]\n",
    "    for i in range(2,n):\n",
    "        if A[i][0]!=A[i-1][0]:B.append((A[i-1][2],A[i-1][3])) # sprawdzamy czy sie nie powtórzyly\n",
    "    if n!=1: B.append((A[n-1][2],A[n-1][3]))\n",
    "    \n",
    "    n=len(B) # nowa dlugosc tablicy po usunieciu \n",
    "    \n",
    "    S=[]\n",
    "    for i in range(min(n,3)):S.append(B[i]) # tworzymy stos\n",
    "\n",
    "    for i in range(3,n):\n",
    "        while len(S)>2 and mat_det_3x3(S[-2],S[-1],B[i])>-10**(-24): S.pop() #dopóki tworzy lewo strony kąt \n",
    "        S.append(B[i])\n",
    "    return S\n",
    "    #return len(S),S"
   ]
  },
  {
   "cell_type": "code",
   "execution_count": null,
   "metadata": {},
   "outputs": [],
   "source": [
    "graham_algorithm(points_a)"
   ]
  },
  {
   "cell_type": "code",
   "execution_count": null,
   "metadata": {},
   "outputs": [],
   "source": [
    "graham_algorithm(points_b)"
   ]
  },
  {
   "cell_type": "code",
   "execution_count": null,
   "metadata": {},
   "outputs": [],
   "source": [
    "graham_algorithm(points_c)"
   ]
  },
  {
   "cell_type": "code",
   "execution_count": null,
   "metadata": {},
   "outputs": [],
   "source": [
    "graham_algorithm(points_d)"
   ]
  },
  {
   "cell_type": "code",
   "execution_count": null,
   "metadata": {},
   "outputs": [],
   "source": [
    "Test().runtest(1, graham_algorithm) # Testy wskazują poprawne działanie algorytmu"
   ]
  },
  {
   "cell_type": "markdown",
   "metadata": {},
   "source": [
    "Implementacja wizualizacji algorytmu Grahama  "
   ]
  },
  {
   "cell_type": "code",
   "execution_count": 112,
   "metadata": {},
   "outputs": [],
   "source": [
    "def graham_algorithm_draw(Q):\n",
    "    '''\n",
    "    Funkcja buduje otoczkę wypukłą dla podanego zbioru punktów Q algorytmem Grahama oraz pokazuje poszczególne kroki algorytmu\n",
    "    :param Q: zbiór punktów\n",
    "    :return: krotka w postaci (tablica punktów w postaci krotek współrzędnych, wizualizer pokazujący kroki algorytmu) \n",
    "    '''\n",
    "    n=len(Q)\n",
    "    # wyznacznik macierzy \n",
    "    def mat_det_3x3(a, b, c): return a[0]*c[1]+a[1]*b[0]+c[0]*b[1]-c[1]*b[0]-a[0]*b[1]-a[1]*c[0]\n",
    "    \n",
    "    # punkty referencyjny, o min y, (x)\n",
    "    min_point = min(Q, key=lambda p: (p[1], p[0])) \n",
    "    \n",
    "    #Obliczanie kątów i odległości od punktów\n",
    "    A=[(0,0,min_point[0],min_point[1])]\n",
    "    for i in range(n):\n",
    "        if Q[i]==min_point: continue\n",
    "        dx = Q[i][0] - min_point[0]\n",
    "        dy = Q[i][1] - min_point[1]\n",
    "        kąt = numpy.arctan2(dy,dx) # liczymy kąt  \n",
    "        A.append((kąt,(dx**2 + dy**2)**0.5,Q[i][0],Q[i][1]))\n",
    "    A = sorted(A, key = lambda x:(x[0],x[1])) # sortujemy po kącie\n",
    "    \n",
    "    #Usuwamy powtarzajce się punkty\n",
    "    B=[(A[0][2],A[0][3])]\n",
    "    for i in range(2,n):\n",
    "        if A[i][0]!=A[i-1][0]:B.append((A[i-1][2],A[i-1][3])) # sprawdzamy czy sie nie powtórzyly\n",
    "    if n!=1: B.append((A[n-1][2],A[n-1][3]))\n",
    "    \n",
    "    n=len(B) # nowa dlugosc tablicy po usunieciu powtorzeń\n",
    "    \n",
    "    # dodawanie do wizualizacji w trakcie dzialnia algorytmu\n",
    "    S=[]\n",
    "    edges=[]\n",
    "    vis=Visualizer()\n",
    "    vis.add_point(Q)\n",
    "    for i in range(min(n,3)):\n",
    "        S.append(B[i])\n",
    "        vis.add_point(S[-1],color=\"green\") \n",
    "    for i in range(min(n-1,2)):\n",
    "        ls=vis.add_line_segment([S[i],S[i+1]],color=\"yellow\")\n",
    "        edges.append(ls)\n",
    "    for i in range(3,n):\n",
    "        while len(S)>2 and mat_det_3x3(S[-2],S[-1],B[i])>-10**(-12):\n",
    "            vis.remove_figure(edges[-1])\n",
    "            vis.add_point(S[-1],color=\"red\")\n",
    "            S.pop()\n",
    "            edges.pop()\n",
    "        S.append(B[i])\n",
    "        vis.add_point(S[-1],color=\"green\")\n",
    "        ls=vis.add_line_segment([S[-2],S[-1]],color=\"yellow\")\n",
    "        edges.append(ls) \n",
    "    vis.add_line_segment([S[-1],S[0]],color=\"yellow\")\n",
    "    return S,vis"
   ]
  },
  {
   "cell_type": "markdown",
   "metadata": {},
   "source": [
    "Zbiór danych A"
   ]
  },
  {
   "cell_type": "code",
   "execution_count": 27,
   "metadata": {},
   "outputs": [],
   "source": [
    "graham_points_a, vis_graham_a = graham_algorithm_draw(points_a)"
   ]
  },
  {
   "cell_type": "code",
   "execution_count": null,
   "metadata": {},
   "outputs": [],
   "source": [
    "#vis_graham_a.show_gif() # wizualizacja gifa w notebook'u\n",
    "#vis_graham_a.save_gif(\"grahamA\") # zapisywanie gifa jako \"grahamA.gif\""
   ]
  },
  {
   "cell_type": "code",
   "execution_count": null,
   "metadata": {},
   "outputs": [],
   "source": [
    "# visualize(graham_points_a)\n",
    "vis.clear()\n",
    "vis.add_point(points_a)\n",
    "vis.add_line_segment([(graham_points_a[i], graham_points_a[i+1]) for i in range(len(graham_points_a)-1)],color=\"red\")\n",
    "vis.add_point([graham_points_a[i] for i in range (len(graham_points_a))],color = \"red\")\n",
    "vis.add_line_segment([graham_points_a[-1], graham_points_a[0]],color=\"red\")\n",
    "vis.show()"
   ]
  },
  {
   "cell_type": "markdown",
   "metadata": {},
   "source": [
    "Zbiór danych B"
   ]
  },
  {
   "cell_type": "code",
   "execution_count": 30,
   "metadata": {},
   "outputs": [],
   "source": [
    "graham_points_b, vis_graham_b = graham_algorithm_draw(points_b)"
   ]
  },
  {
   "cell_type": "code",
   "execution_count": 98,
   "metadata": {},
   "outputs": [],
   "source": [
    "#vis_graham_b.show_gif()# wizualizacja gifa w notebook'u\n",
    "#vis_graham_b.save_gif(\"grahamB\")# zapisywanie gifa jako \"grahamB.gif\""
   ]
  },
  {
   "cell_type": "code",
   "execution_count": null,
   "metadata": {},
   "outputs": [],
   "source": [
    "# visualize(graham_points_b)\n",
    "vis.clear()\n",
    "vis.add_point(points_b)\n",
    "vis.add_line_segment([(graham_points_b[i], graham_points_b[i+1]) for i in range(len(graham_points_b)-1)],color=\"red\")\n",
    "vis.add_point([graham_points_b[i] for i in range (len(graham_points_b))],color = \"red\")\n",
    "vis.add_line_segment([graham_points_b[-1], graham_points_b[0]],color=\"red\")\n",
    "vis.show()"
   ]
  },
  {
   "cell_type": "markdown",
   "metadata": {},
   "source": [
    "Zbiór danych C"
   ]
  },
  {
   "cell_type": "code",
   "execution_count": 33,
   "metadata": {},
   "outputs": [],
   "source": [
    "graham_points_c, vis_graham_c = graham_algorithm_draw(points_c)"
   ]
  },
  {
   "cell_type": "code",
   "execution_count": 99,
   "metadata": {},
   "outputs": [],
   "source": [
    "#vis_graham_c.show_gif()# wizualizacja gifa w notebook'u\n",
    "#vis_graham_c.save_gif(\"grahamC\")## zapisywanie gifa jako \"grahamC.gif\""
   ]
  },
  {
   "cell_type": "code",
   "execution_count": null,
   "metadata": {},
   "outputs": [],
   "source": [
    "# visualize(graham_points_c)\n",
    "vis.clear()\n",
    "vis.add_point(points_c)\n",
    "vis.add_line_segment([(graham_points_c[i], graham_points_c[i+1]) for i in range(len(graham_points_c)-1)],color=\"red\")\n",
    "vis.add_point([graham_points_c[i] for i in range (len(graham_points_c))],color = \"red\")\n",
    "vis.add_line_segment([graham_points_c[-1], graham_points_c[0]],color=\"red\")\n",
    "vis.show()"
   ]
  },
  {
   "cell_type": "markdown",
   "metadata": {},
   "source": [
    "Zbiór danych D"
   ]
  },
  {
   "cell_type": "code",
   "execution_count": 134,
   "metadata": {},
   "outputs": [],
   "source": [
    "graham_points_d, vis_graham_d = graham_algorithm_draw(points_d)"
   ]
  },
  {
   "cell_type": "code",
   "execution_count": 136,
   "metadata": {},
   "outputs": [],
   "source": [
    "#vis_graham_d.show_gif()# wizualizacja gifa w notebook'u\n",
    "vis_graham_d.save_gif(\"grahamD\")# zapisywanie gifa jako \"grahamD.gif\""
   ]
  },
  {
   "cell_type": "code",
   "execution_count": null,
   "metadata": {},
   "outputs": [],
   "source": [
    "# visualize(graham_points_d)\n",
    "vis.clear()\n",
    "vis.add_point(points_d)\n",
    "vis.add_line_segment([(graham_points_d[i], graham_points_d[i+1]) for i in range(len(graham_points_d)-1)],color=\"red\")\n",
    "vis.add_point([graham_points_d[i] for i in range (len(graham_points_d))],color = \"red\")\n",
    "vis.add_line_segment([graham_points_d[-1], graham_points_d[0]],color=\"red\")\n",
    "vis.show()"
   ]
  },
  {
   "cell_type": "markdown",
   "metadata": {},
   "source": [
    "### Algorytm Jarvisa"
   ]
  },
  {
   "cell_type": "markdown",
   "metadata": {},
   "source": [
    "Algorytm Jarvisa oblicza otoczkę wypukłą dla zbioru punktów $Q$ przez technikę zwaną owijaniem paczki (*package wrapping*) lub owijaniem prezentu (*gift wrapping*). Algorytm Jarvisa buduje sekwencję $H = \\langle p_1, p_2, \\dots, p_m \\rangle$ będącą wierzchołkami $\\mathcal{CH}(Q)$. Zaczynamy od punktu $p_0$, następny punkt $p_1$ w otoczce wypukłej ma najmniejszy kąt w odniesieniu do $p_0$ (w przypadku takiego samego kąta - wybiera się punkt najdalej od $p_0$). Podobnie, gdy $p_2$ ma najmniejszy kąt w odniesieniu do $p_1$, itd.. Zauważyć warto, że możemy tym sposobem obliczyć lewy i prawy łańcuch otoczki wypukłej $\\mathcal{CH}(Q)$. Lewy łańcuch buduje się podobnie. Gdy osiągniemy najwyższy wierzchołej w prawym łańcuchu $p_k$, wybieramy wierzchołek $p_{k+1}$, który ma najmniejszy kąt w odniesieniu do $p_k$, ale od ujemnej osi-$x$. Można zaimplementować algorytm Jarvisa bez konstruowania pomocniczych łańcuchów - lewego i prawego. Taka implementacja utrzymuje śledzenie kąta ostatniej strony otoczki wypukłej i wymaga sekwencji kątów boków otoczki tylko rosnącej. (Patrząc na trzy ostatnie punkty jesteśmy w stanie obliczyć jaki punkt należy włączyć do $\\mathcal{CH}(Q)$ w zależności od budowanego punktu)"
   ]
  },
  {
   "cell_type": "code",
   "execution_count": 13,
   "metadata": {},
   "outputs": [],
   "source": [
    "def jarvis_algorithm(Q):\n",
    "    '''\n",
    "    Funkcja buduje otoczkę wypukłą dla podanego\n",
    "    zbioru punktów Q algorytmem Jarvisa.\n",
    "    :param Q: lista punktów (krotek współrzędnych)\n",
    "    :return: lista punktów należących do otoczki wypukłej\n",
    "    '''\n",
    "    #Funckja pomocniczna do liczenia położenia\n",
    "    def det(a, b, c):return (b[0] - a[0]) * (c[1] - a[1]) - (b[1] - a[1]) * (c[0] - a[0])\n",
    "\n",
    "    # Funkcja do sprawdzenia polozenia punktu wgl prostej\n",
    "    def orient(a, b, c):\n",
    "        return 1 if det(a, b, c) < 0 else -1 if det(a, b, c) > 0 else 0\n",
    "    \n",
    "    if len(Q) <= 3: return Q # dla malej ilosci punktow\n",
    "\n",
    "    start = min(Q, key=lambda p: (p[1], p[0])) # sortowanie po y, (x)\n",
    "    otoczka = [] # sekwencja H\n",
    "    ostatni_pkt = start\n",
    "        \n",
    "\n",
    "    while True: # dopóki nie dojdziemy do początkowego punktu\n",
    "        otoczka.append(ostatni_pkt)\n",
    "        potencjlany_pkt = Q[0]\n",
    "        for i in range(len(Q)):\n",
    "             orientacja = orient(ostatni_pkt, Q[i], potencjlany_pkt) # jesli jest po lewej stronie lub na lini ale bardzie oddalony to jest kandydatem\n",
    "             if (orientacja == -1) or orientacja == 0 and \\\n",
    "                (ostatni_pkt[0] - Q[i][0])**2 + (ostatni_pkt[1] - Q[i][1])**2 > \\\n",
    "                (ostatni_pkt[0] - potencjlany_pkt[0])**2 + (ostatni_pkt[1] - potencjlany_pkt[1])**2: \n",
    "                potencjlany_pkt = Q[i]\n",
    "        ostatni_pkt = potencjlany_pkt\n",
    "        \n",
    "        if ostatni_pkt == start: break\n",
    "            \n",
    "    return otoczka \n",
    "    #return len(otoczka),otoczka "
   ]
  },
  {
   "cell_type": "code",
   "execution_count": null,
   "metadata": {},
   "outputs": [],
   "source": [
    "jarvis_algorithm(points_a)"
   ]
  },
  {
   "cell_type": "code",
   "execution_count": null,
   "metadata": {},
   "outputs": [],
   "source": [
    "jarvis_algorithm(points_b)"
   ]
  },
  {
   "cell_type": "code",
   "execution_count": null,
   "metadata": {},
   "outputs": [],
   "source": [
    "jarvis_algorithm(points_c)"
   ]
  },
  {
   "cell_type": "code",
   "execution_count": null,
   "metadata": {},
   "outputs": [],
   "source": [
    "jarvis_algorithm(points_d)"
   ]
  },
  {
   "cell_type": "code",
   "execution_count": null,
   "metadata": {},
   "outputs": [],
   "source": [
    "Test().runtest(2, jarvis_algorithm) # Testy wskazują poprawne działanie algorytmu"
   ]
  },
  {
   "cell_type": "code",
   "execution_count": 19,
   "metadata": {},
   "outputs": [],
   "source": [
    "def jarvis_algorithm_draw(Q):\n",
    "    '''\n",
    "    Funkcja buduje otoczkę wypukłą dla podanego\n",
    "    zbioru punktów Q algorytmem Jarvisa i wizualizuje kroki.\n",
    "    :param Q: lista punktów (krotek współrzędnych)\n",
    "    :return: lista punktów należących do otoczki wypukłej i obiekt wizualizera\n",
    "    '''\n",
    "\n",
    "    #Funckja pomocniczna do liczenia położenia\n",
    "    def det(a, b, c):\n",
    "        return (b[0] - a[0]) * (c[1] - a[1]) - (b[1] - a[1]) * (c[0] - a[0])\n",
    "\n",
    "    # Funkcja do sprawdzenia polozenia punktu wgl prostej\n",
    "    def orient(a, b, c):\n",
    "        return 1 if det(a, b, c) < 0 else -1 if det(a, b, c) > 0 else 0\n",
    "\n",
    "    if len(Q) <= 3:\n",
    "        return Q\n",
    "\n",
    "    start = min(Q, key=lambda p: (p[1], p[0]))  # sortowanie po y, (x)\n",
    "    otoczka = [start]  \n",
    "    ostatni_pkt = start\n",
    "\n",
    "    # Inicjalizacja wizualizatora\n",
    "    vis = Visualizer()\n",
    "    vis.add_point(Q)  \n",
    "    vis.add_point(start, color=\"red\")  \n",
    "\n",
    "    # Dodawanie do wizualizacji + algorytm Jarvisa\n",
    "    while True:\n",
    "        potencjalny_pkt = Q[0]\n",
    "        \n",
    "        for i in range(len(Q)):\n",
    "            if Q[i] == ostatni_pkt:\n",
    "                continue\n",
    "            \n",
    "        for i in range(len(Q)):\n",
    "             orientacja = orient(ostatni_pkt, Q[i], potencjalny_pkt)\n",
    "             if (orientacja == -1) or orientacja == 0 and \\\n",
    "                (ostatni_pkt[0] - Q[i][0])**2 + (ostatni_pkt[1] - Q[i][1])**2 > \\\n",
    "                (ostatni_pkt[0] - potencjalny_pkt[0])**2 + (ostatni_pkt[1] - potencjalny_pkt[1])**2: \n",
    "                potencjalny_pkt = Q[i]\n",
    "        \n",
    "        vis.add_point(potencjalny_pkt, color=\"yellow\")\n",
    "        vis.add_line_segment([ostatni_pkt, potencjalny_pkt], color=\"yellow\")\n",
    "\n",
    "        if potencjalny_pkt == start:\n",
    "            break\n",
    "\n",
    "        otoczka.append(potencjalny_pkt)\n",
    "        vis.add_point(potencjalny_pkt, color=\"green\")\n",
    "        vis.add_line_segment([ostatni_pkt, potencjalny_pkt], color=\"yellow\")\n",
    "\n",
    "        ostatni_pkt = potencjalny_pkt\n",
    "\n",
    "    vis.add_line_segment([otoczka[-1], start], color=\"yellow\")\n",
    "\n",
    "    return otoczka, vis\n",
    "\n"
   ]
  },
  {
   "cell_type": "markdown",
   "metadata": {},
   "source": [
    "Zwizualizuj swoją implementację algorytmu."
   ]
  },
  {
   "cell_type": "markdown",
   "metadata": {},
   "source": [
    "Zbiór danych A"
   ]
  },
  {
   "cell_type": "code",
   "execution_count": 20,
   "metadata": {},
   "outputs": [],
   "source": [
    "jarvis_points_a, vis_jarvis_a = jarvis_algorithm_draw(points_a)"
   ]
  },
  {
   "cell_type": "code",
   "execution_count": null,
   "metadata": {},
   "outputs": [],
   "source": [
    "#vis_jarvis_a.show_gif() # wizualizacja gifa w notebook'u \n",
    "#vis_jarvis_a.save_gif(\"JarvisA\")# zapisywanie gifa jako \"JarvisA.gif\""
   ]
  },
  {
   "cell_type": "code",
   "execution_count": null,
   "metadata": {},
   "outputs": [],
   "source": [
    "# visualize(jarvis_points_a)\n",
    "vis.clear()\n",
    "vis.add_point(points_a)\n",
    "vis.add_line_segment([(jarvis_points_a[i], jarvis_points_a[i+1]) for i in range(len(jarvis_points_a)-1)],color=\"red\")\n",
    "vis.add_point([jarvis_points_a[i] for i in range (len(jarvis_points_a))],color = \"red\")\n",
    "vis.add_line_segment([jarvis_points_a[-1], jarvis_points_a[0]],color=\"red\")\n",
    "vis.show()"
   ]
  },
  {
   "cell_type": "markdown",
   "metadata": {},
   "source": [
    "Zbiór danych B"
   ]
  },
  {
   "cell_type": "code",
   "execution_count": 23,
   "metadata": {},
   "outputs": [],
   "source": [
    "jarvis_points_b, vis_jarvis_b = jarvis_algorithm_draw(points_b)"
   ]
  },
  {
   "cell_type": "code",
   "execution_count": 24,
   "metadata": {},
   "outputs": [],
   "source": [
    "#vis_jarvis_b.show_gif()# wizualizacja gifa w notebook'u \n",
    "#vis_jarvis_b.save_gif(\"JarvisB\")# zapisywanie gifa jako \"JarvisB.gif\""
   ]
  },
  {
   "cell_type": "code",
   "execution_count": null,
   "metadata": {},
   "outputs": [],
   "source": [
    "# visualize(jarvis_points_b)\n",
    "vis.clear()\n",
    "vis.add_point(points_b)\n",
    "vis.add_line_segment([(jarvis_points_b[i], jarvis_points_b[i+1]) for i in range(len(jarvis_points_b)-1)],color=\"red\")\n",
    "vis.add_point([jarvis_points_b[i] for i in range (len(jarvis_points_b))],color = \"red\")\n",
    "vis.add_line_segment([jarvis_points_b[-1], jarvis_points_b[0]],color=\"red\")\n",
    "vis.show()"
   ]
  },
  {
   "cell_type": "markdown",
   "metadata": {},
   "source": [
    "Zbiór danych C"
   ]
  },
  {
   "cell_type": "code",
   "execution_count": 26,
   "metadata": {},
   "outputs": [],
   "source": [
    "jarvis_points_c, vis_jarvis_c = jarvis_algorithm_draw(points_c)"
   ]
  },
  {
   "cell_type": "code",
   "execution_count": 27,
   "metadata": {},
   "outputs": [],
   "source": [
    "#vis_jarvis_c.show_gif()# wizualizacja gifa w notebook'u \n",
    "#vis_jarvis_c.save_gif(\"JarvisC\")# zapisywanie gifa jako \"JarvisC.gif\""
   ]
  },
  {
   "cell_type": "code",
   "execution_count": null,
   "metadata": {},
   "outputs": [],
   "source": [
    "# visualize(jarvis_points_c)\n",
    "vis.clear()\n",
    "vis.add_point(points_c)\n",
    "vis.add_line_segment([(jarvis_points_c[i], jarvis_points_c[i+1]) for i in range(len(jarvis_points_c)-1)],color=\"red\")\n",
    "vis.add_point([jarvis_points_c[i] for i in range (len(jarvis_points_c))],color = \"red\")\n",
    "vis.add_line_segment([jarvis_points_c[-1], jarvis_points_c[0]],color=\"red\")\n",
    "vis.show()"
   ]
  },
  {
   "cell_type": "markdown",
   "metadata": {},
   "source": [
    "Zbiór danych D"
   ]
  },
  {
   "cell_type": "code",
   "execution_count": 28,
   "metadata": {},
   "outputs": [],
   "source": [
    "jarvis_points_d, vis_jarvis_d = jarvis_algorithm_draw(points_d)"
   ]
  },
  {
   "cell_type": "code",
   "execution_count": null,
   "metadata": {},
   "outputs": [],
   "source": [
    "#vis_jarvis_d.show_gif()# wizualizacja gifa w notebook'u \n",
    "#vis_jarvis_d.save_gif(\"JarvisD\")# zapisywanie gifa jako \"JarvisD.gif\""
   ]
  },
  {
   "cell_type": "code",
   "execution_count": null,
   "metadata": {},
   "outputs": [],
   "source": [
    "# visualize(jarvis_points_d)\n",
    "vis.clear()\n",
    "vis.add_point(points_d)\n",
    "vis.add_line_segment([(jarvis_points_d[i], jarvis_points_d[i+1]) for i in range(len(jarvis_points_d)-1)],color=\"red\")\n",
    "vis.add_point([jarvis_points_d[i] for i in range (len(jarvis_points_d))],color = \"red\")\n",
    "vis.add_line_segment([jarvis_points_d[-1], jarvis_points_d[0]],color=\"red\")\n",
    "vis.show()"
   ]
  },
  {
   "cell_type": "markdown",
   "metadata": {},
   "source": [
    "Przygotwane zbioru do porównania czasowego \n"
   ]
  },
  {
   "cell_type": "code",
   "execution_count": 165,
   "metadata": {},
   "outputs": [],
   "source": [
    "PunktyE = [100,1000,5000,10000,50000] # Zbiory testowep punktów ze zbiorów A, C, D\n",
    "PunktyF = [10,100,500,1000,3000] # Zbior testowy dla punktów ze zbioru B\n",
    "TestZbiorA = [generate_uniform_points(-1000,1000,liczba) for liczba in PunktyE]\n",
    "TestZbiorB = [generate_circle_points((100,100), 500, liczba) for liczba in PunktyF]\n",
    "TestZbiorC = [generate_rectangle_points((-200,50), (-200,-150), (100,-150), (100,50), liczba) for liczba in PunktyE]\n",
    "TestZbiorD = [generate_square_points((0,0), (100,0), (100,100), (0,100), int(0.3*liczba)-1, int(0.2*liczba)-1) for liczba in PunktyE]"
   ]
  },
  {
   "cell_type": "markdown",
   "metadata": {},
   "source": [
    "Porównianie wydajności czasowej"
   ]
  },
  {
   "cell_type": "code",
   "execution_count": null,
   "metadata": {},
   "outputs": [],
   "source": [
    "from time import time\n",
    "TestPunkty=[(\"Zbiór A\",TestZbiorA), (\"Zbiór B\",TestZbiorB), (\"Zbiór C\",TestZbiorC), (\"Zbiór D\",TestZbiorD)]\n",
    "for i in range (len(TestPunkty)):\n",
    "    print(TestPunkty[i][0],\":\")\n",
    "    for j in range(len(TestPunkty[i][1])):\n",
    "        print(\"Liczba punktów:\",len(TestPunkty[i][1][j]),\"\\nAlgorytm Grahama: \",end='')\n",
    "        t0=time()\n",
    "        graham_algorithm(TestPunkty[i][1][j])\n",
    "        t1=time()\n",
    "        print(\"czas wykonania {ex_time:.4f} s\".format(ex_time=t1-t0))\n",
    "        print(\"Algorytm Jarvisa: \",end='')\n",
    "        t0=time()\n",
    "        jarvis_algorithm(TestPunkty[i][1][j])\n",
    "        t1=time()\n",
    "        print(\"czas wykonania {ex_time:.4f} s\\n\".format(ex_time=t1-t0))"
   ]
  },
  {
   "cell_type": "markdown",
   "metadata": {},
   "source": [
    "Bibliografia:\n",
    "- Wprowadzenie do algorytmów wydanie 3, Thomas H. Cormen, Charles E. Leiserson, Ronald L. Rivest, Stein Clifford\n"
   ]
  }
 ],
 "metadata": {
  "kernelspec": {
   "display_name": "bit-alg",
   "language": "python",
   "name": "python3"
  },
  "language_info": {
   "codemirror_mode": {
    "name": "ipython",
    "version": 3
   },
   "file_extension": ".py",
   "mimetype": "text/x-python",
   "name": "python",
   "nbconvert_exporter": "python",
   "pygments_lexer": "ipython3",
   "version": "3.9.20"
  },
  "orig_nbformat": 4
 },
 "nbformat": 4,
 "nbformat_minor": 2
}
